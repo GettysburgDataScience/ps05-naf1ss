{
 "cells": [
  {
   "cell_type": "code",
   "execution_count": 10,
   "metadata": {},
   "outputs": [],
   "source": [
    "##  Md Nafisul Hasan Sami- Section- C"
   ]
  },
  {
   "cell_type": "markdown",
   "metadata": {},
   "source": [
    "DS 256 Data Science Programming, Fall 2024\n",
    "\n",
    "Prof Eatai Roth\n",
    "\n",
    "## Problem Set 5\n",
    "Due 11/14/2024 by 8p"
   ]
  },
  {
   "cell_type": "markdown",
   "metadata": {},
   "source": [
    "## Titanic Pandas\n",
    "(sounds cute...is not)\n",
    "\n",
    "In this assignment, we'll explore the titanic training data set. These data represent a portion of the passenger manifest of the Titanic, detailing the passengers and whether or not they survived the fateful crash.\n",
    "\n",
    "The columns are mostly self-explanatory. Key to less-obvious columns:\n",
    " - Sex - male=1 / female=0 \n",
    " - Parch - number of parents/children traveling with\n",
    " - SibSp - numbers of siblings/spouses traveling with\n",
    " - PClass - ticket class (like first class, business, economy)\n",
    "\n",
    "\n",
    " To start, you should import packages, ```pandas``` (as pd) and ```matplotlib.pyplot``` (as plt). Then load the data from ```titanic_train_clean.csv``` into a pandas dataframe.\n",
    "\n",
    " Feel free to add more code blocks if needed. When making figures, don't forget to label axes and provide titles and legends when appropriate."
   ]
  },
  {
   "cell_type": "code",
   "execution_count": 25,
   "metadata": {},
   "outputs": [
    {
     "data": {
      "text/html": [
       "<div>\n",
       "<style scoped>\n",
       "    .dataframe tbody tr th:only-of-type {\n",
       "        vertical-align: middle;\n",
       "    }\n",
       "\n",
       "    .dataframe tbody tr th {\n",
       "        vertical-align: top;\n",
       "    }\n",
       "\n",
       "    .dataframe thead th {\n",
       "        text-align: right;\n",
       "    }\n",
       "</style>\n",
       "<table border=\"1\" class=\"dataframe\">\n",
       "  <thead>\n",
       "    <tr style=\"text-align: right;\">\n",
       "      <th></th>\n",
       "      <th>Age</th>\n",
       "      <th>Cabin</th>\n",
       "      <th>Embarked</th>\n",
       "      <th>Fare</th>\n",
       "      <th>Name</th>\n",
       "      <th>Parch</th>\n",
       "      <th>PassengerId</th>\n",
       "      <th>Pclass</th>\n",
       "      <th>Sex</th>\n",
       "      <th>SibSp</th>\n",
       "      <th>Survived</th>\n",
       "      <th>Ticket</th>\n",
       "      <th>Title</th>\n",
       "      <th>Family_Size</th>\n",
       "    </tr>\n",
       "  </thead>\n",
       "  <tbody>\n",
       "    <tr>\n",
       "      <th>0</th>\n",
       "      <td>22.0</td>\n",
       "      <td>NaN</td>\n",
       "      <td>S</td>\n",
       "      <td>7.2500</td>\n",
       "      <td>Braund, Mr. Owen Harris</td>\n",
       "      <td>0</td>\n",
       "      <td>1</td>\n",
       "      <td>3</td>\n",
       "      <td>1</td>\n",
       "      <td>1</td>\n",
       "      <td>0</td>\n",
       "      <td>A/5 21171</td>\n",
       "      <td>Mr</td>\n",
       "      <td>1</td>\n",
       "    </tr>\n",
       "    <tr>\n",
       "      <th>1</th>\n",
       "      <td>38.0</td>\n",
       "      <td>C85</td>\n",
       "      <td>C</td>\n",
       "      <td>71.2833</td>\n",
       "      <td>Cumings, Mrs. John Bradley (Florence Briggs Th...</td>\n",
       "      <td>0</td>\n",
       "      <td>2</td>\n",
       "      <td>1</td>\n",
       "      <td>0</td>\n",
       "      <td>1</td>\n",
       "      <td>1</td>\n",
       "      <td>PC 17599</td>\n",
       "      <td>Mrs</td>\n",
       "      <td>1</td>\n",
       "    </tr>\n",
       "    <tr>\n",
       "      <th>2</th>\n",
       "      <td>26.0</td>\n",
       "      <td>NaN</td>\n",
       "      <td>S</td>\n",
       "      <td>7.9250</td>\n",
       "      <td>Heikkinen, Miss. Laina</td>\n",
       "      <td>0</td>\n",
       "      <td>3</td>\n",
       "      <td>3</td>\n",
       "      <td>0</td>\n",
       "      <td>0</td>\n",
       "      <td>1</td>\n",
       "      <td>STON/O2. 3101282</td>\n",
       "      <td>Miss</td>\n",
       "      <td>0</td>\n",
       "    </tr>\n",
       "    <tr>\n",
       "      <th>3</th>\n",
       "      <td>35.0</td>\n",
       "      <td>C123</td>\n",
       "      <td>S</td>\n",
       "      <td>53.1000</td>\n",
       "      <td>Futrelle, Mrs. Jacques Heath (Lily May Peel)</td>\n",
       "      <td>0</td>\n",
       "      <td>4</td>\n",
       "      <td>1</td>\n",
       "      <td>0</td>\n",
       "      <td>1</td>\n",
       "      <td>1</td>\n",
       "      <td>113803</td>\n",
       "      <td>Mrs</td>\n",
       "      <td>1</td>\n",
       "    </tr>\n",
       "    <tr>\n",
       "      <th>4</th>\n",
       "      <td>35.0</td>\n",
       "      <td>NaN</td>\n",
       "      <td>S</td>\n",
       "      <td>8.0500</td>\n",
       "      <td>Allen, Mr. William Henry</td>\n",
       "      <td>0</td>\n",
       "      <td>5</td>\n",
       "      <td>3</td>\n",
       "      <td>1</td>\n",
       "      <td>0</td>\n",
       "      <td>0</td>\n",
       "      <td>373450</td>\n",
       "      <td>Mr</td>\n",
       "      <td>0</td>\n",
       "    </tr>\n",
       "  </tbody>\n",
       "</table>\n",
       "</div>"
      ],
      "text/plain": [
       "    Age Cabin Embarked     Fare  \\\n",
       "0  22.0   NaN        S   7.2500   \n",
       "1  38.0   C85        C  71.2833   \n",
       "2  26.0   NaN        S   7.9250   \n",
       "3  35.0  C123        S  53.1000   \n",
       "4  35.0   NaN        S   8.0500   \n",
       "\n",
       "                                                Name  Parch  PassengerId  \\\n",
       "0                            Braund, Mr. Owen Harris      0            1   \n",
       "1  Cumings, Mrs. John Bradley (Florence Briggs Th...      0            2   \n",
       "2                             Heikkinen, Miss. Laina      0            3   \n",
       "3       Futrelle, Mrs. Jacques Heath (Lily May Peel)      0            4   \n",
       "4                           Allen, Mr. William Henry      0            5   \n",
       "\n",
       "   Pclass  Sex  SibSp  Survived            Ticket Title  Family_Size  \n",
       "0       3    1      1         0         A/5 21171    Mr            1  \n",
       "1       1    0      1         1          PC 17599   Mrs            1  \n",
       "2       3    0      0         1  STON/O2. 3101282  Miss            0  \n",
       "3       1    0      1         1            113803   Mrs            1  \n",
       "4       3    1      0         0            373450    Mr            0  "
      ]
     },
     "execution_count": 25,
     "metadata": {},
     "output_type": "execute_result"
    }
   ],
   "source": [
    "# Add the boilerplate code for importing the required packages and data\n",
    "\n",
    "import pandas as pd\n",
    "import matplotlib.pyplot as plt\n",
    "\n",
    "titanic_df = pd.read_csv('titanic.csv')\n",
    "\n",
    "titanic_df.head()\n"
   ]
  },
  {
   "cell_type": "markdown",
   "metadata": {},
   "source": [
    "## Homework Problems\n",
    "\n",
    "For each of the problems, you'll write some code to find the answer. If there is a written/short answer component, use the provided text field."
   ]
  },
  {
   "cell_type": "markdown",
   "metadata": {},
   "source": [
    "### Problem 1\n",
    "\n",
    " - How many passengers are recorded in this log?\n",
    " - What percentage are male?\n",
    " - What percentage survived?\n",
    "\n",
    "Hint: You can find these three answers with a single command."
   ]
  },
  {
   "cell_type": "code",
   "execution_count": 27,
   "metadata": {},
   "outputs": [
    {
     "name": "stdout",
     "output_type": "stream",
     "text": [
      "Total passengers: 891\n",
      "Percentage male: 64.76%\n",
      "Percentage survived: 38.38%\n"
     ]
    }
   ],
   "source": [
    "# Total number of passengers\n",
    "total_passengers = titanic_df.shape[0]\n",
    "\n",
    "# Percentage of males\n",
    "percent_male = titanic_df['Sex'].mean() * 100  # Since male = 1, mean gives percentage\n",
    "\n",
    "# Percentage of survivors\n",
    "percent_survived = titanic_df['Survived'].mean() * 100  # Since survived = 1, mean gives percentage\n",
    "\n",
    "print(f\"Total passengers: {total_passengers}\")\n",
    "print(f\"Percentage male: {percent_male:.2f}%\")\n",
    "print(f\"Percentage survived: {percent_survived:.2f}%\")\n",
    "\n"
   ]
  },
  {
   "cell_type": "markdown",
   "metadata": {},
   "source": [
    "Your written answer:\n",
    "\n",
    " - 891\n",
    " - 64.76%\n",
    " - 38.38%"
   ]
  },
  {
   "cell_type": "markdown",
   "metadata": {},
   "source": [
    "### Problem 2:\n",
    "\n",
    " - What percentage of female passengers survived?\n",
    " - What percentage of male passengers survived?"
   ]
  },
  {
   "cell_type": "code",
   "execution_count": 29,
   "metadata": {},
   "outputs": [
    {
     "name": "stdout",
     "output_type": "stream",
     "text": [
      "Percentage of female passengers who survived: 74.20%\n",
      "Percentage of male passengers who survived: 18.89%\n"
     ]
    }
   ],
   "source": [
    "# Percentage of female passengers who survived\n",
    "percent_female_survived = titanic_df[titanic_df['Sex'] == 0]['Survived'].mean() * 100\n",
    "\n",
    "# Percentage of male passengers who survived\n",
    "percent_male_survived = titanic_df[titanic_df['Sex'] == 1]['Survived'].mean() * 100\n",
    "\n",
    "print(f\"Percentage of female passengers who survived: {percent_female_survived:.2f}%\")\n",
    "print(f\"Percentage of male passengers who survived: {percent_male_survived:.2f}%\")\n"
   ]
  },
  {
   "cell_type": "markdown",
   "metadata": {},
   "source": [
    "Your written answer:\n",
    "\n",
    " - 74.20%\n",
    " - 18.89%"
   ]
  },
  {
   "cell_type": "markdown",
   "metadata": {},
   "source": [
    "### Problem 3\n",
    "\n",
    "Use ```groupby``` and ```agg``` to find the percentage of the total tickets and the survivorship percentage for each class of ticket."
   ]
  },
  {
   "cell_type": "code",
   "execution_count": 33,
   "metadata": {},
   "outputs": [
    {
     "name": "stdout",
     "output_type": "stream",
     "text": [
      "        total_tickets  survival_rate  percentage_of_total_tickets\n",
      "Pclass                                                           \n",
      "1                 216      62.962963                    24.242424\n",
      "2                 184      47.282609                    20.650954\n",
      "3                 491      24.236253                    55.106622\n"
     ]
    }
   ],
   "source": [
    "ticket_class_stats = titanic_df.groupby('Pclass').agg(\n",
    "    total_tickets=('Pclass', 'count'),\n",
    "    survival_rate=('Survived', 'mean')\n",
    ")\n",
    "\n",
    "ticket_class_stats['percentage_of_total_tickets'] = (ticket_class_stats['total_tickets'] / titanic_df.shape[0]) * 100\n",
    "ticket_class_stats['survival_rate'] *= 100\n",
    "\n",
    "print(ticket_class_stats)\n",
    "\n"
   ]
  },
  {
   "cell_type": "markdown",
   "metadata": {},
   "source": [
    "Your written answer:\n",
    "\n",
    " - Class 1 \n",
    "    - % tickets: 24.242424\n",
    "    - % survivorship: 62.962963 \n",
    "- Class 2 \n",
    "    - % tickets: 20.650954\n",
    "    - % survivorship: 47.282609 \n",
    "- Class 3\n",
    "    - % tickets: 55.106622\n",
    "    - % survivorship: 24.236253 \n"
   ]
  },
  {
   "cell_type": "markdown",
   "metadata": {},
   "source": [
    "### Problem 4\n",
    "\n",
    "Create two new dataframes corresponding to survivors and non-survivors keeping only the columns: age, name, and sex. Display the first five rows of these new dataframes.\n",
    "\n",
    "Create a figure showing the distribution of age by sex and survivorship (four histograms on the same axes: male-survivors, female-survivors, male-unlucky, female-unlucky). Choose colors and histtype (see the [documentation for histogram](https://matplotlib.org/stable/api/_as_gen/matplotlib.pyplot.hist.html)) to make this figure easy to read and interpret."
   ]
  },
  {
   "cell_type": "code",
   "execution_count": 37,
   "metadata": {},
   "outputs": [
    {
     "name": "stdout",
     "output_type": "stream",
     "text": [
      "Survivors DataFrame:\n",
      "    Age                                               Name  Sex\n",
      "1  38.0  Cumings, Mrs. John Bradley (Florence Briggs Th...    0\n",
      "2  26.0                             Heikkinen, Miss. Laina    0\n",
      "3  35.0       Futrelle, Mrs. Jacques Heath (Lily May Peel)    0\n",
      "8  27.0  Johnson, Mrs. Oscar W (Elisabeth Vilhelmina Berg)    0\n",
      "9  14.0                Nasser, Mrs. Nicholas (Adele Achem)    0\n",
      "\n",
      "Non-Survivors DataFrame:\n",
      "    Age                            Name  Sex\n",
      "0  22.0         Braund, Mr. Owen Harris    1\n",
      "4  35.0        Allen, Mr. William Henry    1\n",
      "5  30.0                Moran, Mr. James    1\n",
      "6  54.0         McCarthy, Mr. Timothy J    1\n",
      "7   2.0  Palsson, Master. Gosta Leonard    1\n"
     ]
    }
   ],
   "source": [
    "# DataFrames for survivors and non-survivors with selected columns\n",
    "survivors_df = titanic_df[titanic_df['Survived'] == 1][['Age', 'Name', 'Sex']]\n",
    "non_survivors_df = titanic_df[titanic_df['Survived'] == 0][['Age', 'Name', 'Sex']]\n",
    "\n",
    "# Display the first five rows of each DataFrame\n",
    "print(\"Survivors DataFrame:\")\n",
    "print(survivors_df.head())\n",
    "\n",
    "print(\"\\nNon-Survivors DataFrame:\")\n",
    "print(non_survivors_df.head())\n"
   ]
  },
  {
   "cell_type": "code",
   "execution_count": 39,
   "metadata": {},
   "outputs": [
    {
     "data": {
      "image/png": "[encoded data removed]",
      "text/plain": [
       "<Figure size 1000x600 with 1 Axes>"
      ]
     },
     "metadata": {},
     "output_type": "display_data"
    }
   ],
   "source": [
    "# Set up the figure and axis\n",
    "plt.figure(figsize=(10, 6))\n",
    "\n",
    "# Plot histograms\n",
    "plt.hist(\n",
    "    survivors_df[survivors_df['Sex'] == 1]['Age'].dropna(), bins=15, \n",
    "    alpha=0.5, label='Male Survivors', color='blue', histtype='stepfilled'\n",
    ")\n",
    "plt.hist(\n",
    "    survivors_df[survivors_df['Sex'] == 0]['Age'].dropna(), bins=15, \n",
    "    alpha=0.5, label='Female Survivors', color='green', histtype='stepfilled'\n",
    ")\n",
    "plt.hist(\n",
    "    non_survivors_df[non_survivors_df['Sex'] == 1]['Age'].dropna(), bins=15, \n",
    "    alpha=0.5, label='Male Non-Survivors', color='red', histtype='stepfilled'\n",
    ")\n",
    "plt.hist(\n",
    "    non_survivors_df[non_survivors_df['Sex'] == 0]['Age'].dropna(), bins=15, \n",
    "    alpha=0.5, label='Female Non-Survivors', color='orange', histtype='stepfilled'\n",
    ")\n",
    "\n",
    "# Add labels, legend, and title\n",
    "plt.xlabel('Age')\n",
    "plt.ylabel('Count')\n",
    "plt.title('Age Distribution by Sex and Survivorship')\n",
    "plt.legend(loc='upper right')\n",
    "\n",
    "# Display the plot\n",
    "plt.show()\n"
   ]
  },
  {
   "cell_type": "markdown",
   "metadata": {},
   "source": [
    "### Problem 5\n",
    "\n",
    "Now that we've inspected the data, let's build a classifier (you'll compare two models) that predicts which passengers survived. These are the steps you should take:\n",
    "\n",
    " - Choose your features. The label will be survivorship.\n",
    " - Split the data into training and test sets.\n",
    " - Standardize the values using StandardScaler\n",
    " - Choose two of the following model types: KNN, SVM, Decision Tree. Create those models and select hyper-parameters.\n",
    " - Fit your models to the training data.\n",
    " - Apply the fit models to create predictions from the test data.\n",
    " - For each model, create a confusion matrix for the training and test data. You may want to revisit the hyper-parameters and re-fit the models.\n",
    "\n",
    " - Answer the questions at the bottom of the code block."
   ]
  },
  {
   "cell_type": "code",
   "execution_count": 44,
   "metadata": {},
   "outputs": [
    {
     "name": "stdout",
     "output_type": "stream",
     "text": [
      "KNN Model:\n",
      "Training Confusion Matrix:\n",
      " [[402  42]\n",
      " [ 61 207]]\n",
      "Test Confusion Matrix:\n",
      " [[89 16]\n",
      " [19 55]]\n",
      "Training Accuracy: 0.86\n",
      "Test Accuracy: 0.80\n",
      "\n",
      "Decision Tree Model:\n",
      "Training Confusion Matrix:\n",
      " [[417  27]\n",
      " [ 87 181]]\n",
      "Test Confusion Matrix:\n",
      " [[98  7]\n",
      " [25 49]]\n",
      "Training Accuracy: 0.84\n",
      "Test Accuracy: 0.82\n"
     ]
    },
    {
     "name": "stderr",
     "output_type": "stream",
     "text": [
      "/var/folders/hy/hnmjt1t55xj2lz4jp45jcw680000gn/T/ipykernel_79521/1854555092.py:13: FutureWarning: A value is trying to be set on a copy of a DataFrame or Series through chained assignment using an inplace method.\n",
      "The behavior will change in pandas 3.0. This inplace method will never work because the intermediate object on which we are setting values always behaves as a copy.\n",
      "\n",
      "For example, when doing 'df[col].method(value, inplace=True)', try using 'df.method({col: value}, inplace=True)' or df[col] = df[col].method(value) instead, to perform the operation inplace on the original object.\n",
      "\n",
      "\n",
      "  features['Age'].fillna(features['Age'].mean(), inplace=True)\n",
      "/var/folders/hy/hnmjt1t55xj2lz4jp45jcw680000gn/T/ipykernel_79521/1854555092.py:13: SettingWithCopyWarning: \n",
      "A value is trying to be set on a copy of a slice from a DataFrame\n",
      "\n",
      "See the caveats in the documentation: https://pandas.pydata.org/pandas-docs/stable/user_guide/indexing.html#returning-a-view-versus-a-copy\n",
      "  features['Age'].fillna(features['Age'].mean(), inplace=True)\n"
     ]
    }
   ],
   "source": [
    "# Import necessary libraries\n",
    "from sklearn.model_selection import train_test_split\n",
    "from sklearn.preprocessing import StandardScaler\n",
    "from sklearn.neighbors import KNeighborsClassifier\n",
    "from sklearn.tree import DecisionTreeClassifier\n",
    "from sklearn.svm import SVC\n",
    "from sklearn.metrics import confusion_matrix, accuracy_score\n",
    "\n",
    "features = titanic_df[['Pclass', 'Sex', 'Age', 'SibSp', 'Parch']]\n",
    "labels = titanic_df['Survived']\n",
    "\n",
    "# Handle missing values in 'Age' by filling with the mean\n",
    "features['Age'].fillna(features['Age'].mean(), inplace=True)\n",
    "\n",
    "X_train, X_test, y_train, y_test = train_test_split(features, labels, test_size=0.2, random_state=42)\n",
    "\n",
    "# Standardize the feature values\n",
    "scaler = StandardScaler()\n",
    "X_train = scaler.fit_transform(X_train)\n",
    "X_test = scaler.transform(X_test)\n",
    "\n",
    "# Create and fit models\n",
    "# Model 1: K-Nearest Neighbors (KNN)\n",
    "knn = KNeighborsClassifier(n_neighbors=5)\n",
    "knn.fit(X_train, y_train)\n",
    "\n",
    "# Model 2: Decision Tree\n",
    "dt = DecisionTreeClassifier(max_depth=5, random_state=42)\n",
    "dt.fit(X_train, y_train)\n",
    "\n",
    "# Make predictions\n",
    "y_pred_knn_train = knn.predict(X_train)\n",
    "y_pred_knn_test = knn.predict(X_test)\n",
    "\n",
    "y_pred_dt_train = dt.predict(X_train)\n",
    "y_pred_dt_test = dt.predict(X_test)\n",
    "\n",
    "# Step 6: Evaluate performance with confusion matrices\n",
    "conf_matrix_knn_train = confusion_matrix(y_train, y_pred_knn_train)\n",
    "conf_matrix_knn_test = confusion_matrix(y_test, y_pred_knn_test)\n",
    "\n",
    "conf_matrix_dt_train = confusion_matrix(y_train, y_pred_dt_train)\n",
    "conf_matrix_dt_test = confusion_matrix(y_test, y_pred_dt_test)\n",
    "\n",
    "# Calculate accuracy for both models\n",
    "acc_knn_train = accuracy_score(y_train, y_pred_knn_train)\n",
    "acc_knn_test = accuracy_score(y_test, y_pred_knn_test)\n",
    "\n",
    "acc_dt_train = accuracy_score(y_train, y_pred_dt_train)\n",
    "acc_dt_test = accuracy_score(y_test, y_pred_dt_test)\n",
    "\n",
    "# Print results\n",
    "print(\"KNN Model:\")\n",
    "print(\"Training Confusion Matrix:\\n\", conf_matrix_knn_train)\n",
    "print(\"Test Confusion Matrix:\\n\", conf_matrix_knn_test)\n",
    "print(f\"Training Accuracy: {acc_knn_train:.2f}\")\n",
    "print(f\"Test Accuracy: {acc_knn_test:.2f}\\n\")\n",
    "\n",
    "print(\"Decision Tree Model:\")\n",
    "print(\"Training Confusion Matrix:\\n\", conf_matrix_dt_train)\n",
    "print(\"Test Confusion Matrix:\\n\", conf_matrix_dt_test)\n",
    "print(f\"Training Accuracy: {acc_dt_train:.2f}\")\n",
    "print(f\"Test Accuracy: {acc_dt_test:.2f}\")\n"
   ]
  },
  {
   "cell_type": "markdown",
   "metadata": {},
   "source": [
    "#### **Questions**\n",
    "\n",
    "How does the model performance on the test data compare to the performance on the training data? \n",
    " \n",
    " - Both models show a slight drop in accuracy on test data, which is expected in most real-world scenarios. The gap is relatively small, indicating both models generalize well.\n",
    "\n",
    "\n",
    "Which models did you fit and which worked better?\n",
    " \n",
    " - Fitted Models: K-Nearest Neighbors (KNN) and Decision Tree.\n",
    " - Better Model: The Decision Tree performed slightly better on the test set (82% vs. 80% accuracy) and had a smaller gap between training and test accuracies, indicating less overfitting compared to KNN."
   ]
  }
 ],
 "metadata": {
  "kernelspec": {
   "display_name": "Python 3 (ipykernel)",
   "language": "python",
   "name": "python3"
  },
  "language_info": {
   "codemirror_mode": {
    "name": "ipython",
    "version": 3
   },
   "file_extension": ".py",
   "mimetype": "text/x-python",
   "name": "python",
   "nbconvert_exporter": "python",
   "pygments_lexer": "ipython3",
   "version": "3.12.4"
  }
 },
 "nbformat": 4,
 "nbformat_minor": 4
}
